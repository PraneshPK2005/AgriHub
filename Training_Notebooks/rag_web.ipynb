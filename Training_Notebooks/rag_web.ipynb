{
 "cells": [
  {
   "cell_type": "code",
   "execution_count": 1,
   "metadata": {},
   "outputs": [],
   "source": [
    "from langchain_community.document_loaders import WebBaseLoader"
   ]
  },
  {
   "cell_type": "code",
   "execution_count": 2,
   "metadata": {},
   "outputs": [
    {
     "data": {
      "text/plain": [
       "[Document(page_content=\"\\n\\n\\n\\n\\n The Open Agriculture Journal - Home Page\\n\\n\\n\\n\\n\\n\\n\\n\\n\\n\\n\\n\\n\\n\\n\\n\\n\\n\\n\\n\\n\\n\\n\\n\\n\\n\\n\\n\\n\\n\\n\\n\\n\\n\\n\\n\\n\\n\\n\\n\\n\\n\\n\\n\\n\\n\\n\\n\\nHome\\n\\n\\nEditorial Board\\n\\n\\n\\n\\n\\n\\n\\n\\n\\n\\n\\n\\n\\n\\n\\n\\n\\n\\n\\n\\n\\n\\n\\n\\n\\n\\n\\n\\n\\n\\n\\n\\n\\n\\n\\n\\n\\n\\n\\n\\n\\n\\n\\nQuick Search anywhere\\n\\nEnter Search Term\\n\\n\\n\\n\\n\\n\\n\\n\\n\\n\\n\\n\\n\\nQuick Search in Journals\\n\\nEnter Search Term\\n\\n\\n\\n\\n\\n\\n\\n\\n\\nQuick Search in Journals\\n\\nEnter Search Term\\n\\n\\n\\n\\n\\n\\n\\n\\n\\nQuick Search in Journals\\n\\nEnter Search Term\\n\\n\\n\\n\\n\\n\\n\\n\\n\\nQuick Search in Journals\\n\\nEnter Search Term\\n\\n\\n\\n\\n\\n\\n\\n\\n\\nQuick Search in Journals\\n\\nEnter Search Term\\n\\n\\n\\n\\n\\n\\n\\n\\n\\nQuick Search in Journals\\n\\nEnter Search Term\\n\\n\\n\\n\\n\\n\\n\\n\\n\\n\\n\\nSearch\\n\\n\\n\\n\\n\\n\\n\\n\\n\\n\\n\\n\\n\\n\\n\\n\\n\\n\\n\\n\\n\\n\\n\\nHome\\n\\n\\nAbout Us\\n\\n\\nAbout the Journal\\n\\n\\nAbout the Publisher\\n\\n\\nEditorial Board\\n\\n\\nFAQs\\n\\n\\n\\nOpen Access Policy\\n\\n\\nETHICAL\\n                    GUIDELINES\\n\\n\\nAllegations from\\n                            Whistleblowers\\n\\n\\nAuthorship\\n\\n\\nConflict of Interest\\n\\n\\nFabricating and\\n                            Stating False Information\\n\\n\\nPlagiarism Prevention\\n\\n\\nPost Publication\\n                            Discussions and Corrections\\n\\n\\nPublishing Ethics\\n\\n\\nResearch Misconduct\\n\\n\\nFOR EDITORS\\n                    & REVIEWERS\\n\\n\\nEditorial Management\\n\\n\\nEditorial Policies\\n\\n\\nEnsuring Content Integrity\\n\\n\\nEthical Guidelines for New\\n                            Editors\\n\\n\\nGuest Editor Guidelines\\n\\n\\nPeer Review Workflow\\n\\n\\nPublication Process\\n\\n\\nGuidelines for Peer Reviewers\\n\\n\\n\\nFOR AUTHORS\\n\\n\\nArchiving Policies\\n\\n\\nArticle Processing Charges\\n\\n\\nAuthor Benefits\\n\\n\\nBentham Manuscript Processing System\\n\\n\\nCorporate Membership\\n\\n\\nInstructions for Authors\\n\\n\\nManuscript Transfer Facility\\n\\n\\nSpecial Fee Waivers and\\n                            Discounts\\n\\n\\n\\n\\n\\nSubmit Manuscript\\n\\n\\n\\n\\n\\n\\n\\n\\n\\n\\n\\n\\n\\n\\nTerms and Conditions\\n\\n\\nPrivacy Policy\\n\\n\\n\\n\\n\\n\\n\\n\\n\\n\\n\\n\\n\\n\\n\\n\\n\\n\\nHome\\n\\n\\nHome\\n\\n\\n\\nABOUT US\\n\\nAbout the Journal\\nAbout the Publisher\\nEditorial Board\\nFAQs\\n\\nOpen Access Policy\\n\\n\\n\\n\\n\\n\\nETHICAL GUIDELINES\\n\\nAllegations from Whistleblowers\\nAuthorship\\nConflict of Interest\\nFabricating and Stating False Information\\nPlagiarism Prevention\\nPost Publication Discussions and Corrections\\nPublishing Ethics\\nResearch Misconduct\\n\\n\\n\\n\\n\\nFOR EDITORS & REVIEWERS\\n\\nEditorial Management\\nEditorial Policies\\nEnsuring Content Integrity\\nEthical Guidelines for New Editors\\nGuest Editor Guidelines\\nPeer Review Workflow\\nPublication Process\\nGuidelines for Peer Reviewers\\n\\n\\n\\n\\n\\n\\nFOR AUTHORS\\n\\nArchiving Policies\\nARTICLE PROCESSING CHARGES\\nAuthor Benefits\\nBentham Manuscript Processing System\\nCorporate Membership\\nInstructions for Authors\\nManuscript Transfer Facility\\nSpecial Fee Waivers and Discounts\\n\\n\\n\\n\\n\\n\\n\\n\\n\\n\\n\\n\\n\\n\\n\\n\\n\\nRESEARCH ARTICLEJanuary 29, 2024Flower Initiation Pattern, Developmental Stages, and Seed Morphology of Paraphalaenopsis Labukensis P.S. Shim, A. Lamb & C.L. Chan, An Endangered Orchid in Sabah\\nHeira Vanessa Nelson, Jualang Azlan Gansau, Nor Amirah Shamsudin, Nor Azizun RusdiRESEARCH ARTICLEJanuary 29, 2024Flower Initiation Pattern, Developmental Stages, and Seed Morphology of Paraphalaenopsis Labukensis P.S. Shim, A. Lamb & C.L. Chan, An Endangered Orchid in Sabah\\nHeira Vanessa Nelson, Jualang Azlan Gansau, Nor Amirah Shamsudin, Nor Azizun RusdiRESEARCH ARTICLEApril 02, 2024Corrigendum to: Deficit Irrigation on Fruit Yield and Quality of Sweet Pepper\\nby Jose Alexander Gil-MarínAlejandro Zermeño-GonzálezMaria X. Córdova-RodríguezHomero Ramírez-RodríguezMartín Cadena-ZapataJorge Méndez-GonzálezEladio H. Cornejo-OviedoRESEARCH ARTICLEMarch 27, 2024Near-infrared Spectroscopy for Direct Investigation of Quality Compounds in Capsicum spp (Capsicum annuum L. and Capsicum frutescens L.)\\nby Kusumiyati KusumiyatiEizo TairaYusuf Eka MaulanaRESEARCH ARTICLEMarch 05, 2024Intelligent Plant Leaf Disease Detection Using Generative Adversarial Networks: a Case-study of Cassava Leaves\\nby Gururaj Harinahalli LokeshSoundarya Bidare ChandregowdaJanhavi VishwanathVinayakumar RaviPradeep RaviAlanoud Al MazroaRESEARCH ARTICLEFebruary 22, 2024Heavy Metal Pollution in Soils near Ilesha Gold Mining Area, Nigeria\\nby Aruna Olasekan AdekiyaAdedeji OloruntobaBabatunde Sunday EwuloTimothy OgunbodeTitilayo SangoyomiView More Articles  \\n\\n\\n\\n\\n\\n\\n\\nISSN (Online): 1874-3315\\n\\n\\n\\nVOLUME: 18, 2024\\n\\n\\n\\nDownload Flyer\\n\\n\\n \\nCALL FOR PAPERS & PROPOSALSCall For PapersSubmit Thematic Issues ProposalsScopus CiteScore\\n\\n\\n\\n2.2PUBLISHED CONTENTSSelect VolumeVolume 18, 2024Volume 17, 2023Volume 16, 2022Volume 15, 2021Volume 14, 2020Volume 13, 2019Volume 12, 2018Volume 11, 2017Volume 10, 2016Volume 9, 2015Volume 8, 2014Volume 7, 2013Volume 6, 2012Volume 5, 2011Volume 4, 2010Volume 3, 2009Volume 2, 2008Volume 1, 2007SEARCH ARTICLES \\n\\n\\n\\n\\n\\nSearch Term\\n\\n\\n\\n\\n\\n\\nSearch Criteria:\\n\\nArticle Title / Keywords / Abstract\\nArticle Title\\nKeywords\\nAbstract\\nAuthor Name\\nEmail Address\\nAffiliation\\nCountry\\nPublication Year (yyyy)\\nPublication Date (yyyy-mm-dd)\\nDOI\\nPublisher ID / E-location ID\\n\\n\\n\\nArticle Type:\\n\\nAll Article Types\\n\\n\\n\\n\\n\\n\\n\\n\\nCase Report\\nClinical Trial Study\\n\\n\\nCommentary\\nCorrigendum\\nCurrent Frontier\\n\\n\\nEditorial\\n\\n\\nLetter to the Editor\\nLetter\\n\\nMeta Analysis Article\\n\\n\\nOpinion Article\\n\\n\\n\\nPerspective Article\\n\\n\\n\\n\\n\\nResearch Article\\nRetraction\\nReview Article\\nShort Communication\\nSystematic Review\\n\\n\\n\\n\\nClear\\nSearch\\n\\n\\nTRACK YOUR MANUSCRIPTEnter Correct Manuscript Reference Number:\\n Submit Reference Number\\n\\t  \\nJOIN OUR TEAM\\n\\nJoin as an Editorial Board Member\\n\\n\\nJoin as an Executive Guest Editor\\n\\n\\nJoin as a Reviewer\\n\\n\\nJoin as a Section Editor (Special Issues)\\n\\n\\nMARKETING OPPORTUNITIES\\n\\nAdvertising Policy\\n\\n\\nKudos\\n\\n\\nPromotional Services\\n\\n\\n \\n\\n                                    AIMS AND SCOPE\\n                                \\nThe Open Agriculture Journal is an open access journal, that publishes research articles, reviews/mini-reviews and letters in all areas of agricultural science. Topics covered include, agronomy; plant and animal breeding; genetics; agricultural biotechnology; crop physiology and agroecology; soil science and agroclimatology; agricultural economics and rural sociology; and sustainable systems. Agricultural biotechnology (including tissue culture, molecular markers, molecular diagnostics, vaccines, genetic engineering, genome editing as well as synthetic biology) to modify living organisms: microorganisms, fungi, plants and animals).\\nThe scope of the journal includes but is not limited to:\\n\\nCrop protection and Cultivation\\nAnimal Science and Aquaculture\\nPharmacognosy and Pharmaceutical Development\\nEnvironmental implications of agricultural land\\nHorticulture\\nForestry\\nAgricultural Sciences, including Genetics and Agricultural Biotechnology\\nEnvironmental Sciences, including prevention and correction of adverse environmental effects (e.g., soil degradation, waste management, bioremediation)\\n\\n\\n\\nABOUT THE EDITORYaroslav B. BlumeAffiliation:National Academy of Science of Ukraine Institute of Food Biotechnology and GenomicsKiev UkraineAffiliation:National Academy of Science of Ukraine Institute of Food Biotechnology and GenomicsKiev UkraineView Editorial Board\\nEditor's ChoiceRESEARCH ARTICLEOpen AccessDOI: 10.2174/0118743315279696231130104854\\nAll articles published in Open Agriculture Journal are now available worldwide under an open-access license. No specific permission is required to reuse all or part of the Open Agriculture Journal article, including figures and tables. Any part of an article published under a Creative Commons CC BY license may be copied without permission as long as the original material is clearly referenced.\\n                     https://openagriculturejournal.com/open-access-policy.php.\\n\\n Assessing Terrain, Vegetation Potential, and Climate Data of Emirates Sites through Soil, Location, Rainfall, and Weather Station Data Analysis\\n Volume: 18 (2024): e18743315279696  [Electronic Publication Date: February 20, 2024]Mohamed Elsadig Eltayeb Habora, Shaher Bano Mirza, Fouad Lamghari Ridouane, Muhammed Sirajul Huda Kalathingal and Neal Spackman\\n\\t\\t\\t\\t\\t\\t\\t\\t\\t\\t\\t\\t\\t\\t\\t\\t\\t\\t\\t\\t\\t\\t\\t\\t\\t\\t\\t\\t\\t\\t\\t\\t\\t\\t\\t\\t\\t\\t\\t\\t\\t\\t\\t\\t\\t\\t\\t    \\n\\t\\t\\t\\t\\t\\t\\t\\t\\t\\t\\t\\t\\t\\t\\t\\t\\t\\tAbstract\\n                                                                    \\n \\n                                                                             \\n\\t\\t\\t\\t\\t\\t\\t\\t\\t\\t\\t\\t\\t\\t\\t\\t\\tView Fulltext HTML\\n                                                                        \\n \\n                                                                        PDF\\n                                                                    \\n RESEARCH ARTICLEOpen AccessDOI: 10.2174/0118743315284161231228065512\\nAll articles published in Open Agriculture Journal are now available worldwide under an open-access license. No specific permission is required to reuse all or part of the Open Agriculture Journal article, including figures and tables. Any part of an article published under a Creative Commons CC BY license may be copied without permission as long as the original material is clearly referenced.\\n                     https://openagriculturejournal.com/open-access-policy.php.\\n\\n Biobutanol Production Using Non-grain Biomass Sorghum saccharatum as a Substrate\\n Volume: 18 (2024): e18743315284161  [Electronic Publication Date: January 08, 2024]Olena O. Tigunova, Dzhamal B. Rakhmetov, Yaroslav B. Blume and Sergiy M. Shulga\\n\\t\\t\\t\\t\\t\\t\\t\\t\\t\\t\\t\\t\\t\\t\\t\\t\\t\\t\\t\\t\\t\\t\\t\\t\\t\\t\\t\\t\\t\\t\\t\\t\\t\\t\\t\\t\\t\\t\\t\\t\\t\\t\\t\\t\\t\\t\\t    \\n\\t\\t\\t\\t\\t\\t\\t\\t\\t\\t\\t\\t\\t\\t\\t\\t\\t\\tAbstract\\n                                                                    \\n \\n                                                                             \\n\\t\\t\\t\\t\\t\\t\\t\\t\\t\\t\\t\\t\\t\\t\\t\\t\\tView Fulltext HTML\\n                                                                        \\n \\n                                                                        PDF\\n                                                                    \\n RESEARCH ARTICLEOpen AccessDOI: 10.2174/18743315-v17-230811-2023-31\\nAll articles published in Open Agriculture Journal are now available worldwide under an open-access license. No specific permission is required to reuse all or part of the Open Agriculture Journal article, including figures and tables. Any part of an article published under a Creative Commons CC BY license may be copied without permission as long as the original material is clearly referenced.\\n                     https://openagriculturejournal.com/open-access-policy.php.\\n\\n Coat Protein 1 Gene of Indonesian Isolates of Rice Tungro Spherical Virus showed High Divergence with those from other South and South East Asian Regions\\n Volume: 17 (2023): e187433152307140  [Electronic Publication Date: September 04, 2023]Raden Heru Praptana, Adyatma Irawan Santosa, Rahmini Rahmini, Wasis Senoaji, Nur Rosida, Danarsi Diptaningsari, Affandi Affandi, Riska Riska, Y. Andi Trisyono and Sedyo Hartono\\n\\t\\t\\t\\t\\t\\t\\t\\t\\t\\t\\t\\t\\t\\t\\t\\t\\t\\t\\t\\t\\t\\t\\t\\t\\t\\t\\t\\t\\t\\t\\t\\t\\t\\t\\t\\t\\t\\t\\t\\t\\t\\t\\t\\t\\t\\t\\t    \\n\\t\\t\\t\\t\\t\\t\\t\\t\\t\\t\\t\\t\\t\\t\\t\\t\\t\\tAbstract\\n                                                                    \\n \\n                                                                             \\n\\t\\t\\t\\t\\t\\t\\t\\t\\t\\t\\t\\t\\t\\t\\t\\t\\tView Fulltext HTML\\n                                                                        \\n \\n                                                                        PDF\\n                                                                    \\n RESEARCH ARTICLEOpen AccessDOI: 10.2174/18743315-v17-e230120-2022-12\\nAll articles published in Open Agriculture Journal are now available worldwide under an open-access license. No specific permission is required to reuse all or part of the Open Agriculture Journal article, including figures and tables. Any part of an article published under a Creative Commons CC BY license may be copied without permission as long as the original material is clearly referenced.\\n                     https://openagriculturejournal.com/open-access-policy.php.\\n\\n Structure of Microscopic Fungal Species in Soils at Amber Mining Territories before and during the use of New Technology of Pine Plantation Formation.\\n Volume: 17 (2023): e187433152301190  [Electronic Publication Date: March 06, 2023]Viktoriia Oliferchuk, Dariya Fedorovych, Leonid Kopiy, Dmytro Kravtsov, Nataliia Kendzora, Hryhoriy Krynytskyy, Nataliya Hotsii, Vasyl Suchovich, Mariya Kopiy, Mariya Samarska, Sergiy Kopiy, Ihor Fizyk, Anatoliy Novak and Vasyl Ahiy\\n\\t\\t\\t\\t\\t\\t\\t\\t\\t\\t\\t\\t\\t\\t\\t\\t\\t\\t\\t\\t\\t\\t\\t\\t\\t\\t\\t\\t\\t\\t\\t\\t\\t\\t\\t\\t\\t\\t\\t\\t\\t\\t\\t\\t\\t\\t\\t    \\n\\t\\t\\t\\t\\t\\t\\t\\t\\t\\t\\t\\t\\t\\t\\t\\t\\t\\tAbstract\\n                                                                    \\n \\n                                                                             \\n\\t\\t\\t\\t\\t\\t\\t\\t\\t\\t\\t\\t\\t\\t\\t\\t\\tView Fulltext HTML\\n                                                                        \\n \\n                                                                        PDF\\n                                                                    \\n LETTEROpen AccessDOI: 10.2174/18743315-v16-e221226-2022-49\\nAll articles published in Open Agriculture Journal are now available worldwide under an open-access license. No specific permission is required to reuse all or part of the Open Agriculture Journal article, including figures and tables. Any part of an article published under a Creative Commons CC BY license may be copied without permission as long as the original material is clearly referenced.\\n                     https://openagriculturejournal.com/open-access-policy.php.\\n\\n Irrigation Efficiency in Banana Crops in the Canary Islands\\n Volume: 17 (2023): e187433152212230  [Electronic Publication Date: January 31, 2023]Juan C. Santamarta, Noel Machín and Noelia Cruz-Pérez\\n\\t\\t\\t\\t\\t\\t\\t\\t\\t\\t\\t\\t\\t\\t\\t\\t\\t\\t\\t\\t\\t\\t\\t\\t\\t\\t\\t\\t\\t\\t\\t\\t\\t\\t\\t\\t\\t\\t\\t\\t\\t\\t\\t\\t\\t\\t\\t    \\n\\t\\t\\t\\t\\t\\t\\t\\t\\t\\t\\t\\t\\t\\t\\t\\t\\t\\tAbstract\\n                                                                    \\n \\n                                                                             \\n\\t\\t\\t\\t\\t\\t\\t\\t\\t\\t\\t\\t\\t\\t\\t\\t\\tView Fulltext HTML\\n                                                                        \\n \\n                                                                        PDF\\n                                                                    \\n RESEARCH ARTICLEOpen AccessDOI: 10.2174/1874331502115010021\\nAll articles published in Open Agriculture Journal are now available worldwide under an open-access license. No specific permission is required to reuse all or part of the Open Agriculture Journal article, including figures and tables. Any part of an article published under a Creative Commons CC BY license may be copied without permission as long as the original material is clearly referenced.\\n                     https://openagriculturejournal.com/open-access-policy.php.\\n\\n Genetic Diversity of Omani Durum Wheat (Triticum turgidum sub sp. durum) Landraces\\n Volume: 15 (2021): 21 [Electronic Publication Date: March 18, 2021]Ali H. Al Lawati, Saleem K Nadaf, Nadiya A. AlSaady, Saleh A. Al Hinai, Almandhar Almamari, Masoud H. Al Adawi, Rashid S. Al Hinai and Abdulaziz Al Maawali\\n                                                                         \\n\\t\\t\\t\\t\\t\\t\\t\\t\\t\\t\\t\\t\\t\\t\\t\\t\\t\\tAbstract\\n                                                                    \\n \\n                                                                    \\n\\t\\t\\t\\t\\t\\t\\t\\t\\t\\t\\t\\t\\t\\t\\t\\t\\tView Fulltext HTML\\n                                                                        \\n \\n                                                                    PDF\\n                                                                        \\n \\n\\n\\n\\n\\n\\n\\n\\n\\n\\n\\n\\n\\n\\n\\n\\n\\n\\nISSN (Online): 1874-3315\\n                        \\n\\n\\nVOLUME: 18, 2024\\n\\n\\n\\nDownload Flyer\\n\\n \\n\\n\\n\\nCALL FOR PAPERS & PROPOSALSCall For PapersSubmit Thematic Issues Proposals\\n\\n\\nScopus CiteScore\\n\\n\\n\\n2.2\\n\\nPUBLISHED CONTENTSSelect VolumeVolume 18, 2024Volume 17, 2023Volume 16, 2022Volume 15, 2021Volume 14, 2020Volume 13, 2019Volume 12, 2018Volume 11, 2017Volume 10, 2016Volume 9, 2015Volume 8, 2014Volume 7, 2013Volume 6, 2012Volume 5, 2011Volume 4, 2010Volume 3, 2009Volume 2, 2008Volume 1, 2007\\n\\nSEARCH ARTICLES \\n\\n\\n\\n\\n\\nSearch Term\\n\\n\\n\\n\\n\\n\\nSearch Criteria:\\n\\nArticle Title / Keywords / Abstract\\nArticle Title\\nKeywords\\nAbstract\\nAuthor Name\\nEmail Address\\nAffiliation\\nCountry\\nPublication Year (yyyy)\\nPublication Date (yyyy-mm-dd)\\nDOI\\nPublisher ID / E-location ID\\n\\n\\n\\nArticle Type:\\n\\nAll Article Types\\n\\n\\n\\n\\n\\n\\n\\n\\nCase Report\\nClinical Trial Study\\n\\n\\nCommentary\\nCorrigendum\\nCurrent Frontier\\n\\n\\nEditorial\\n\\n\\nLetter to the Editor\\nLetter\\n\\nMeta Analysis Article\\n\\n\\nOpinion Article\\n\\n\\n\\nPerspective Article\\n\\n\\n\\n\\n\\nResearch Article\\nRetraction\\nReview Article\\nShort Communication\\nSystematic Review\\n\\n\\n\\n\\n\\nClear\\nSearch\\n\\n\\n\\n TRACK YOUR MANUSCRIPTEnter Correct Manuscript Reference Number:\\n                                                Submit Reference Number\\n                                                     \\n \\n\\nJOIN OUR TEAM\\n\\n\\nJoin as an Editorial Board Member\\n\\n\\nJoin as an Executive Guest Editor\\n\\n\\nJoin as a Reviewer\\n\\n\\nJoin as a Section Editor (Special Issues)\\n\\n\\n\\n\\nMARKETING OPPORTUNITIES\\n\\n\\nAdvertising Policy\\n\\n\\nKudos\\n\\n\\nPromotional Services\\n\\n\\n\\n\\n\\n\\n\\nPress Release\\n\\n\\n\\n\\n\\n\\nNews release date\\n                                                26 January 2024                                            \\n\\n\\n\\n\\n\\n                                                    Bentham Is Proud To Announce Collaboration With Elsevier                                                \\n\\n\\n\\n\\n\\n\\n\\n\\nNews release date\\n                                                25 July 2023                                            \\n\\n\\n\\n\\n\\n                                                    Three Bentham Open Journals Receive Impact Factors                                                \\n\\n\\n\\n\\n\\n\\n\\n\\nNews release date\\n                                                17 February 2023                                            \\n\\n\\n\\n\\n\\n                                                    The Nursing Journal Directory Indexes Bentham Journal, The Open Public\\n                    Health Journal                                                \\n\\n\\n\\n\\n\\n\\n\\n\\n\\n\\n\\n\\n\\n\\n\\n\\n\\n\\n\\n\\n\\n\\n\\n\\n\\n\\n\\n\\n\\n\\n\\n\\n\\n\\n\\n\\n\\n\\n\\n\\n\\n\\n\\n\\n\\n\\n\\n\\n\\n\\n\\n\\n\\nFollow Us\\n\\n\\n\\n\\n\\n\\n\\n\\nAbout Us\\n\\n\\nAbout the Journal\\n\\n\\nAbout the Publisher\\n\\n\\nEditorial Board\\n\\n\\nFAQs\\n\\n\\n\\nOpen Access Policy\\n\\n\\n\\n\\nFor Authors\\n\\n\\nArchiving Policies\\n\\n\\nArticle Processing Charges\\n\\n\\nAuthor Benefits\\n\\n\\nBentham Manuscript Processing System\\n\\n\\nCorporate Membership\\n\\n\\nInstructions for Authors\\n\\n\\nManuscript Transfer Facility\\n\\n\\nSpecial Fee Waivers and\\n                                        Discounts\\n\\n\\n\\n\\nFOR EDITORS & REVIEWERS\\n\\n\\nEditorial Management\\n\\n\\nEditorial Policies\\n\\n\\nEnsuring Content Integrity\\n\\n\\nEthical Guidelines for New\\n                                        Editors\\n\\n\\nGuest Editor Guidelines\\n\\n\\nPeer Review Workflow\\n\\n\\nPublication Process\\n\\n\\nGuidelines for Peer Reviewers\\n\\n\\n\\n\\nETHICAL GUIDELINES\\n\\n\\nAllegations from Whistleblowers\\n\\n\\nAuthorship\\n\\n\\nConflict of Interest\\n\\n\\nFabricating and Stating\\n                                        False Information\\n\\n\\nPlagiarism Prevention\\n\\n\\nPost Publication\\n                                        Discussions and Corrections\\n\\n\\nPublishing Ethics\\n\\n\\nResearch Misconduct\\n\\n\\n\\n\\nJOIN OUR TEAM\\n\\n\\nJoin as an Editorial Board Member\\n\\n\\nJoin as an Executive Guest Editor\\n\\n\\nJoin as a Reviewer\\n\\n\\nJoin as a Section Editor (Special Issues)\\n\\n\\nMARKETING OPPORTUNITIES\\n\\n\\nAdvertising Policy\\n\\n\\nKudos\\n\\n\\nPromotional Services\\n\\n\\n\\n\\n\\n\\n\\n\\n\\n\\n\\n\\n\\n\\n\\n\\n\\n\\n\\n\\n\\n\\n\\n\\n\\nTerms and Conditions\\n\\n\\nPrivacy Policy\\n\\n\\nContact Us\\n\\n\\n\\n\\n\\n\\n\\n\\n\\n\\n\\n\\n\\n\\n\\n\\n\\n\\n\\n\\n\", metadata={'source': 'https://openagriculturejournal.com/', 'title': ' The Open Agriculture Journal - Home Page', 'description': 'The Open Agriculture Journal is an Open Access online journal, which publishes research articles, reviews and letters in all areas of agricultural science. Topics covered include, agronomy; plant and animal breeding; genetics; agricultural biotechnology; crop physiology and agroecology; soil science and agroclimatology; agricultural economics and rural sociology; and sustainable systems. Agricultural biotechnology (including tissue culture, molecular markers, molecular diagnostics, vaccines, genetic engineering, genome editing as well as synthetic biology) to modify living organisms: microorganisms, fungi, plants and animals).', 'language': 'en'})]"
      ]
     },
     "execution_count": 2,
     "metadata": {},
     "output_type": "execute_result"
    }
   ],
   "source": [
    "'''loader = WebBaseLoader(\"https://openagriculturejournal.com/\")\n",
    "docs = loader.load()\n",
    "docs'''"
   ]
  },
  {
   "cell_type": "code",
   "execution_count": 2,
   "metadata": {},
   "outputs": [],
   "source": [
    "big_text = \"\"\"**Vegetable Prices Soar, Protests Erupt in Southern India**\n",
    "\n",
    "*June 20, 2024 – The Daily Herald*\n",
    "\n",
    "*Chennai, India* – A wave of protests has swept across several southern Indian states in response to a sharp increase in vegetable prices, adding to the economic woes of millions already grappling with inflation. The recent surge in prices has exacerbated the financial strain on households, leading to widespread demonstrations in cities and rural areas alike.\n",
    "\n",
    "Over the past month, the cost of essential vegetables such as tomatoes, onions, and green chilies has risen by up to 60%. In Chennai, the price of tomatoes has skyrocketed from ₹30 per kilogram to ₹80 per kilogram, while onions now cost ₹50 per kilogram, up from ₹20. These price hikes have severely impacted daily budgets, especially for low- and middle-income families.\n",
    "\n",
    "Experts attribute the surge to a combination of factors, including unseasonal rains that have damaged crops, logistical disruptions, and increased transportation costs. The erratic weather patterns, linked to climate change, have led to crop failures in key agricultural regions, further straining the supply chain.\n",
    "\n",
    "As prices continue to climb, thousands of farmers, traders, and consumers have taken to the streets in protest. In Tamil Nadu, Karnataka, Kerala, and Andhra Pradesh, demonstrators have blocked highways, staged sit-ins, and organized marches, demanding immediate government intervention to stabilize prices and provide relief.\n",
    "\n",
    "In Chennai, the capital of Tamil Nadu, protesters gathered at Marina Beach, holding placards and chanting slogans against the state and central governments. \"The government must take swift action to control prices. We are struggling to feed our families,\" said Lakshmi, a homemaker who joined the protests.\n",
    "\n",
    "Farmers, too, are feeling the pinch. \"Our crops have been ruined by the unpredictable weather, and now we are being blamed for the high prices,\" said Rajendran, a farmer from Karnataka. \"We need support, not blame.\"\n",
    "\n",
    "The political response has been swift but varied. State governments have announced measures such as importing vegetables from other states and countries, subsidizing essential items, and setting up fair price shops. However, these steps have so far done little to alleviate the immediate pressure on consumers.\n",
    "\n",
    "The central government has also come under fire for its handling of the situation. Opposition parties have accused the ruling administration of neglecting the agricultural sector and failing to address the root causes of inflation. \"The government must take responsibility and act now to protect the livelihoods of millions,\" said Rahul Gandhi, leader of the Indian National Congress.\n",
    "\n",
    "Economists warn that without long-term solutions, such as improving agricultural infrastructure and adopting more sustainable farming practices, the volatility in vegetable prices is likely to continue. \"We need a comprehensive approach that addresses climate resilience, supply chain efficiency, and market regulation,\" said Dr. Arvind Subramanian, a leading agricultural economist.\n",
    "\n",
    "As the protests continue, there is growing pressure on authorities to find a resolution. For now, the soaring vegetable prices remain a stark reminder of the broader economic challenges facing the country.\n",
    "\n",
    "The Daily Herald will continue to monitor the situation and provide updates as more information becomes available.\n",
    "\n",
    "---\n",
    "\n",
    "*For more news and updates, follow The Daily Herald on Twitter @DailyHeraldIndia and visit our website at www.dailyheraldindia.com.*\"\"\""
   ]
  },
  {
   "cell_type": "code",
   "execution_count": 4,
   "metadata": {},
   "outputs": [],
   "source": [
    "from langchain.embeddings import HuggingFaceEmbeddings\n",
    "from langchain.vectorstores import FAISS\n",
    "from langchain.document_loaders import PyPDFLoader , DirectoryLoader\n",
    "from langchain.text_splitter import RecursiveCharacterTextSplitter"
   ]
  },
  {
   "cell_type": "code",
   "execution_count": 5,
   "metadata": {},
   "outputs": [
    {
     "ename": "AttributeError",
     "evalue": "'str' object has no attribute 'page_content'",
     "output_type": "error",
     "traceback": [
      "\u001b[1;31m---------------------------------------------------------------------------\u001b[0m",
      "\u001b[1;31mAttributeError\u001b[0m                            Traceback (most recent call last)",
      "Cell \u001b[1;32mIn[5], line 5\u001b[0m\n\u001b[0;32m      1\u001b[0m txt_splitter \u001b[38;5;241m=\u001b[39m RecursiveCharacterTextSplitter(\n\u001b[0;32m      2\u001b[0m     chunk_size \u001b[38;5;241m=\u001b[39m \u001b[38;5;241m700\u001b[39m,\n\u001b[0;32m      3\u001b[0m     chunk_overlap \u001b[38;5;241m=\u001b[39m \u001b[38;5;241m400\u001b[39m\n\u001b[0;32m      4\u001b[0m )\n\u001b[1;32m----> 5\u001b[0m inp_txt \u001b[38;5;241m=\u001b[39m \u001b[43mtxt_splitter\u001b[49m\u001b[38;5;241;43m.\u001b[39;49m\u001b[43msplit_documents\u001b[49m\u001b[43m(\u001b[49m\u001b[43mloader\u001b[49m\u001b[43m)\u001b[49m\n\u001b[0;32m      6\u001b[0m \u001b[38;5;28mprint\u001b[39m(\u001b[38;5;124m\"\u001b[39m\u001b[38;5;124mData Chunks Created\u001b[39m\u001b[38;5;124m\"\u001b[39m)\n",
      "File \u001b[1;32md:\\newenv\\lib\\site-packages\\langchain_text_splitters\\base.py:93\u001b[0m, in \u001b[0;36mTextSplitter.split_documents\u001b[1;34m(self, documents)\u001b[0m\n\u001b[0;32m     91\u001b[0m texts, metadatas \u001b[38;5;241m=\u001b[39m [], []\n\u001b[0;32m     92\u001b[0m \u001b[38;5;28;01mfor\u001b[39;00m doc \u001b[38;5;129;01min\u001b[39;00m documents:\n\u001b[1;32m---> 93\u001b[0m     texts\u001b[38;5;241m.\u001b[39mappend(\u001b[43mdoc\u001b[49m\u001b[38;5;241;43m.\u001b[39;49m\u001b[43mpage_content\u001b[49m)\n\u001b[0;32m     94\u001b[0m     metadatas\u001b[38;5;241m.\u001b[39mappend(doc\u001b[38;5;241m.\u001b[39mmetadata)\n\u001b[0;32m     95\u001b[0m \u001b[38;5;28;01mreturn\u001b[39;00m \u001b[38;5;28mself\u001b[39m\u001b[38;5;241m.\u001b[39mcreate_documents(texts, metadatas\u001b[38;5;241m=\u001b[39mmetadatas)\n",
      "\u001b[1;31mAttributeError\u001b[0m: 'str' object has no attribute 'page_content'"
     ]
    }
   ],
   "source": [
    "txt_splitter = RecursiveCharacterTextSplitter(\n",
    "    chunk_size = 700,\n",
    "    chunk_overlap = 400\n",
    ")\n",
    "inp_txt = txt_splitter.split_documents(loader)\n",
    "print(\"Data Chunks Created\")"
   ]
  },
  {
   "cell_type": "code",
   "execution_count": 5,
   "metadata": {},
   "outputs": [
    {
     "name": "stderr",
     "output_type": "stream",
     "text": [
      "d:\\newenv\\lib\\site-packages\\sentence_transformers\\cross_encoder\\CrossEncoder.py:11: TqdmExperimentalWarning: Using `tqdm.autonotebook.tqdm` in notebook mode. Use `tqdm.tqdm` instead to force console mode (e.g. in jupyter console)\n",
      "  from tqdm.autonotebook import tqdm, trange\n",
      "d:\\newenv\\lib\\site-packages\\huggingface_hub\\file_download.py:1132: FutureWarning: `resume_download` is deprecated and will be removed in version 1.0.0. Downloads always resume when possible. If you want to force a new download, use `force_download=True`.\n",
      "  warnings.warn(\n"
     ]
    },
    {
     "name": "stdout",
     "output_type": "stream",
     "text": [
      "Embedding Created\n"
     ]
    }
   ],
   "source": [
    "hfembeddings = HuggingFaceEmbeddings(\n",
    "    model_name = \"thenlper/gte-large\",\n",
    "    model_kwargs = {'device':'cuda'}\n",
    ")\n",
    "print(\"Embedding Created\")"
   ]
  },
  {
   "cell_type": "code",
   "execution_count": 6,
   "metadata": {},
   "outputs": [
    {
     "name": "stderr",
     "output_type": "stream",
     "text": [
      "d:\\newenv\\lib\\site-packages\\transformers\\models\\bert\\modeling_bert.py:435: UserWarning: 1Torch was not compiled with flash attention. (Triggered internally at ..\\aten\\src\\ATen\\native\\transformers\\cuda\\sdp_utils.cpp:455.)\n",
      "  attn_output = torch.nn.functional.scaled_dot_product_attention(\n"
     ]
    },
    {
     "name": "stdout",
     "output_type": "stream",
     "text": [
      "Vector Store Creation Completed and Stored Locally\n"
     ]
    }
   ],
   "source": [
    "db = FAISS.from_documents(inp_txt,hfembeddings)\n",
    "db.save_local(r\"D:\\agribot\\faiss\\agri_web_data\")\n",
    "print(\"Vector Store Creation Completed and Stored Locally\")"
   ]
  },
  {
   "cell_type": "code",
   "execution_count": 7,
   "metadata": {},
   "outputs": [],
   "source": [
    "from langchain import PromptTemplate\n",
    "from langchain.embeddings import HuggingFaceEmbeddings\n",
    "from langchain.vectorstores import FAISS\n",
    "from langchain.llms import CTransformers , HuggingFaceHub\n",
    "from langchain.chains import RetrievalQA\n",
    "from langchain.callbacks.streaming_stdout import StreamingStdOutCallbackHandler"
   ]
  },
  {
   "cell_type": "code",
   "execution_count": 8,
   "metadata": {},
   "outputs": [],
   "source": [
    "PROMPT_TEMPLATE = '''\n",
    "With the information provided try to answer the question. \n",
    "If you cant answer the question based on the information either say you cant find an answer or unable to find an answer.\n",
    "So try to understand in depth about the context and answer only based on the information provided. Dont generate irrelevant answers\n",
    "\n",
    "Context: {context}\n",
    "Question: {question}\n",
    "Do provide only helpful answers\n",
    "\n",
    "Helpful answer:\n",
    "'''\n",
    "INP_VARS = ['context', 'question']\n",
    "custom_prompt_template = PromptTemplate(\n",
    "    template = PROMPT_TEMPLATE,\n",
    "    input_variables = INP_VARS\n",
    ")"
   ]
  },
  {
   "cell_type": "code",
   "execution_count": 9,
   "metadata": {},
   "outputs": [],
   "source": [
    "llm = CTransformers(\n",
    "    model = r\"D:\\agribot\\llama-2-7b-chat.ggmlv3.q4_1.bin\",\n",
    "    model_type=\"llama\",\n",
    "    max_new_tokens = 512,\n",
    "    temperature = 0.2,\n",
    "    callbacks=[StreamingStdOutCallbackHandler()],\n",
    "    gpu_layers=0\n",
    ")"
   ]
  },
  {
   "cell_type": "code",
   "execution_count": 10,
   "metadata": {},
   "outputs": [
    {
     "name": "stderr",
     "output_type": "stream",
     "text": [
      "d:\\newenv\\lib\\site-packages\\huggingface_hub\\file_download.py:1132: FutureWarning: `resume_download` is deprecated and will be removed in version 1.0.0. Downloads always resume when possible. If you want to force a new download, use `force_download=True`.\n",
      "  warnings.warn(\n"
     ]
    },
    {
     "name": "stdout",
     "output_type": "stream",
     "text": [
      "Embedding Created\n"
     ]
    }
   ],
   "source": [
    "hfembeddings = HuggingFaceEmbeddings(\n",
    "    model_name = \"thenlper/gte-large\",\n",
    "    model_kwargs = {'device':'cuda'}\n",
    ")\n",
    "print(\"Embedding Created\")"
   ]
  },
  {
   "cell_type": "code",
   "execution_count": 11,
   "metadata": {},
   "outputs": [],
   "source": [
    "vector_db = FAISS.load_local(r\"D:\\agribot\\faiss\\agri_web_data/\", hfembeddings,allow_dangerous_deserialization=True)"
   ]
  },
  {
   "cell_type": "code",
   "execution_count": 12,
   "metadata": {},
   "outputs": [],
   "source": [
    "retrieval_qa_chain = RetrievalQA.from_chain_type(\n",
    "                                llm=llm,\n",
    "                                chain_type=\"stuff\",\n",
    "                                retriever=vector_db.as_retriever(search_kwargs={'k': 1}),\n",
    "                                return_source_documents=True,\n",
    "                                chain_type_kwargs={\"prompt\": custom_prompt_template}\n",
    "                            )"
   ]
  },
  {
   "cell_type": "code",
   "execution_count": 14,
   "metadata": {},
   "outputs": [
    {
     "name": "stdout",
     "output_type": "stream",
     "text": [
      "The scope of this journal includes but is not limited to:\n",
      "1. Research on the impact of technology on society and culture\n",
      "2. Studies on the ethical implications of emerging technologies\n",
      "3. Analysis of the social, economic, and political aspects of technology\n",
      "4. Discussions on the role of technology in shaping the future of work and education\n",
      "5. Reviews of new and emerging technologies and their potential applications\n",
      "6. Critical examinations of the intersection of technology and other fields such as philosophy, psychology, and sociology\n",
      "7. Book reviews, literature reviews, and theoretical frameworks related to the field of technology and society\n",
      "8. Opinion pieces, editorials, and commentaries on current events and trends in the field\n",
      "9. Interviews with leading scholars, researchers, and innovators in the field.\n",
      "\n",
      "I cant answer this question because there is no clear answer from the information provided. The scope of the journal is not specified by category and also include discussion for books review and literature review, opinion piece and editorials. So it cannot be definedThe scope of this journal includes but is not limited to:\n",
      "1. Research on the impact of technology on society and culture\n",
      "2. Studies on the ethical implications of emerging technologies\n",
      "3. Analysis of the social, economic, and political aspects of technology\n",
      "4. Discussions on the role of technology in shaping the future of work and education\n",
      "5. Reviews of new and emerging technologies and their potential applications\n",
      "6. Critical examinations of the intersection of technology and other fields such as philosophy, psychology, and sociology\n",
      "7. Book reviews, literature reviews, and theoretical frameworks related to the field of technology and society\n",
      "8. Opinion pieces, editorials, and commentaries on current events and trends in the field\n",
      "9. Interviews with leading scholars, researchers, and innovators in the field.\n",
      "\n",
      "I cant answer this question because there is no clear answer from the information provided. The scope of the journal is not specified by category and also include discussion for books review and literature review, opinion piece and editorials. So it cannot be defined\n"
     ]
    }
   ],
   "source": [
    "user_input = \"What scopes of this journel?\"\n",
    "prompt = {'query': user_input}\n",
    "model_out = retrieval_qa_chain(prompt)\n",
    "answer = model_out['result']\n",
    "print(answer)"
   ]
  },
  {
   "cell_type": "code",
   "execution_count": null,
   "metadata": {},
   "outputs": [],
   "source": []
  }
 ],
 "metadata": {
  "kernelspec": {
   "display_name": "Python 3",
   "language": "python",
   "name": "python3"
  },
  "language_info": {
   "codemirror_mode": {
    "name": "ipython",
    "version": 3
   },
   "file_extension": ".py",
   "mimetype": "text/x-python",
   "name": "python",
   "nbconvert_exporter": "python",
   "pygments_lexer": "ipython3",
   "version": "3.10.14"
  }
 },
 "nbformat": 4,
 "nbformat_minor": 2
}
